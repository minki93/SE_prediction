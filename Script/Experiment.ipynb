{
 "cells": [
  {
   "cell_type": "code",
   "execution_count": 1,
   "metadata": {},
   "outputs": [],
   "source": [
    "#https://github.com/vermaMachineLearning/keras-deep-graph-learning"
   ]
  },
  {
   "cell_type": "code",
   "execution_count": 1,
   "metadata": {},
   "outputs": [],
   "source": [
    "import warnings\n",
    "warnings.filterwarnings(action='ignore')\n",
    "import pandas as pd\n",
    "import numpy as np\n",
    "import matplotlib\n",
    "\n",
    "import rdkit\n",
    "import rdkit.Chem\n",
    "from rdkit import Chem\n",
    "from rdkit.Chem import AllChem\n",
    "from rdkit.Chem import Descriptors\n",
    "from rdkit.Chem.SaltRemover import SaltRemover\n",
    "\n",
    "from tqdm import tnrange, tqdm_notebook\n",
    "\n",
    "import time\n",
    "\n",
    "#from sklearn.model_selection import train_test_split\n",
    "from sklearn.model_selection import train_test_split\n",
    "from sklearn.model_selection import RepeatedKFold\n",
    "from sklearn.model_selection import StratifiedShuffleSplit\n",
    "from sklearn.model_selection import KFold\n",
    "from sklearn.ensemble import RandomForestClassifier\n",
    "from sklearn.metrics import accuracy_score, confusion_matrix, f1_score\n",
    "from sklearn.metrics import roc_auc_score, average_precision_score\n",
    "from sklearn.metrics import balanced_accuracy_score,cohen_kappa_score\n",
    "from sklearn.metrics import hamming_loss,jaccard_score."
   ]
  },
  {
   "cell_type": "code",
   "execution_count": 2,
   "metadata": {},
   "outputs": [
    {
     "data": {
      "text/plain": [
       "'2020.03.6'"
      ]
     },
     "execution_count": 2,
     "metadata": {},
     "output_type": "execute_result"
    }
   ],
   "source": [
    "rdkit.__version__"
   ]
  },
  {
   "cell_type": "code",
   "execution_count": 3,
   "metadata": {},
   "outputs": [
    {
     "name": "stdout",
     "output_type": "stream",
     "text": [
      "# conda environments:\n",
      "#\n",
      "base                     C:\\ProgramData\\Anaconda3\n",
      "docker_api               C:\\ProgramData\\Anaconda3\\envs\\docker_api\n",
      "paper                 *  C:\\ProgramData\\Anaconda3\\envs\\paper\n",
      "py27                     C:\\ProgramData\\Anaconda3\\envs\\py27\n",
      "py_37                    C:\\ProgramData\\Anaconda3\\envs\\py_37\n",
      "rstudio                  C:\\ProgramData\\Anaconda3\\envs\\rstudio\n",
      "\n"
     ]
    }
   ],
   "source": [
    "! conda info --envs"
   ]
  },
  {
   "cell_type": "code",
   "execution_count": 4,
   "metadata": {},
   "outputs": [],
   "source": [
    "#acc, f1-score, g-mean, auc, auprc\n",
    "def gmean_score(y_true,y_pred):\n",
    "    tn,fp,fn,tp = confusion_matrix(y_true,y_pred).ravel()\n",
    "    return ((tp/(tp+fn))*(tn/(tn+fp)))**(1/2)"
   ]
  },
  {
   "cell_type": "code",
   "execution_count": 5,
   "metadata": {},
   "outputs": [],
   "source": [
    "def MCC_score(y_true,y_pred):\n",
    "    tn,fp,fn,tp = confusion_matrix(y_true,y_pred).ravel()\n",
    "    return ((tp*tn)-(fp*fn))/(((tp+fp)*(fn+tn)*(fp+tn)*(tp+fn))**(1/2))"
   ]
  },
  {
   "cell_type": "markdown",
   "metadata": {},
   "source": [
    "# DrugBank Data"
   ]
  },
  {
   "cell_type": "code",
   "execution_count": 6,
   "metadata": {
    "scrolled": true
   },
   "outputs": [],
   "source": [
    "drugbank = pd.read_csv(\"../Data/drugbank_all_structure_links.csv\")"
   ]
  },
  {
   "cell_type": "code",
   "execution_count": 7,
   "metadata": {
    "scrolled": true
   },
   "outputs": [
    {
     "data": {
      "text/plain": [
       "DB04864    1\n",
       "DB13167    1\n",
       "DB05464    1\n",
       "DB00289    1\n",
       "DB00843    1\n",
       "          ..\n",
       "DB14755    1\n",
       "DB09074    1\n",
       "DB04388    1\n",
       "DB01263    1\n",
       "DB00455    1\n",
       "Name: DrugBank ID, Length: 11414, dtype: int64"
      ]
     },
     "execution_count": 7,
     "metadata": {},
     "output_type": "execute_result"
    }
   ],
   "source": [
    "drugbank['DrugBank ID'].value_counts()"
   ]
  },
  {
   "cell_type": "markdown",
   "metadata": {},
   "source": [
    "# Data Matrix"
   ]
  },
  {
   "cell_type": "code",
   "execution_count": 8,
   "metadata": {},
   "outputs": [],
   "source": [
    "data = pd.read_csv(\"../Data/sider_data.csv\")"
   ]
  },
  {
   "cell_type": "code",
   "execution_count": 9,
   "metadata": {
    "scrolled": true
   },
   "outputs": [
    {
     "data": {
      "text/html": [
       "<div>\n",
       "<style scoped>\n",
       "    .dataframe tbody tr th:only-of-type {\n",
       "        vertical-align: middle;\n",
       "    }\n",
       "\n",
       "    .dataframe tbody tr th {\n",
       "        vertical-align: top;\n",
       "    }\n",
       "\n",
       "    .dataframe thead th {\n",
       "        text-align: right;\n",
       "    }\n",
       "</style>\n",
       "<table border=\"1\" class=\"dataframe\">\n",
       "  <thead>\n",
       "    <tr style=\"text-align: right;\">\n",
       "      <th></th>\n",
       "      <th>drugbank_id</th>\n",
       "      <th>drugbank_name</th>\n",
       "      <th>pubchem_id</th>\n",
       "      <th>umls_cui_from_meddra</th>\n",
       "      <th>side_effect_name</th>\n",
       "    </tr>\n",
       "  </thead>\n",
       "  <tbody>\n",
       "    <tr>\n",
       "      <th>0</th>\n",
       "      <td>DB07768</td>\n",
       "      <td>(10ALPHA,13ALPHA,14BETA,17ALPHA)-17-HYDROXYAND...</td>\n",
       "      <td>6013</td>\n",
       "      <td>C0000729</td>\n",
       "      <td>Abdominal cramps</td>\n",
       "    </tr>\n",
       "    <tr>\n",
       "      <th>1</th>\n",
       "      <td>DB07768</td>\n",
       "      <td>(10ALPHA,13ALPHA,14BETA,17ALPHA)-17-HYDROXYAND...</td>\n",
       "      <td>6013</td>\n",
       "      <td>C0000737</td>\n",
       "      <td>Abdominal pain</td>\n",
       "    </tr>\n",
       "    <tr>\n",
       "      <th>2</th>\n",
       "      <td>DB07768</td>\n",
       "      <td>(10ALPHA,13ALPHA,14BETA,17ALPHA)-17-HYDROXYAND...</td>\n",
       "      <td>6013</td>\n",
       "      <td>C0232492</td>\n",
       "      <td>Abdominal pain upper</td>\n",
       "    </tr>\n",
       "    <tr>\n",
       "      <th>3</th>\n",
       "      <td>DB07768</td>\n",
       "      <td>(10ALPHA,13ALPHA,14BETA,17ALPHA)-17-HYDROXYAND...</td>\n",
       "      <td>6013</td>\n",
       "      <td>C0740651</td>\n",
       "      <td>Abdominal symptom</td>\n",
       "    </tr>\n",
       "    <tr>\n",
       "      <th>4</th>\n",
       "      <td>DB07768</td>\n",
       "      <td>(10ALPHA,13ALPHA,14BETA,17ALPHA)-17-HYDROXYAND...</td>\n",
       "      <td>6013</td>\n",
       "      <td>C0877331</td>\n",
       "      <td>Abnormal clotting factor</td>\n",
       "    </tr>\n",
       "    <tr>\n",
       "      <th>...</th>\n",
       "      <td>...</td>\n",
       "      <td>...</td>\n",
       "      <td>...</td>\n",
       "      <td>...</td>\n",
       "      <td>...</td>\n",
       "    </tr>\n",
       "    <tr>\n",
       "      <th>153658</th>\n",
       "      <td>DB05738</td>\n",
       "      <td>vapitadine dihydrochloride</td>\n",
       "      <td>312</td>\n",
       "      <td>C0015230</td>\n",
       "      <td>Rash</td>\n",
       "    </tr>\n",
       "    <tr>\n",
       "      <th>153659</th>\n",
       "      <td>DB05738</td>\n",
       "      <td>vapitadine dihydrochloride</td>\n",
       "      <td>312</td>\n",
       "      <td>C0234233</td>\n",
       "      <td>Tenderness</td>\n",
       "    </tr>\n",
       "    <tr>\n",
       "      <th>153660</th>\n",
       "      <td>DB05738</td>\n",
       "      <td>vapitadine dihydrochloride</td>\n",
       "      <td>312</td>\n",
       "      <td>C0041582</td>\n",
       "      <td>Ulcer</td>\n",
       "    </tr>\n",
       "    <tr>\n",
       "      <th>153661</th>\n",
       "      <td>DB05738</td>\n",
       "      <td>vapitadine dihydrochloride</td>\n",
       "      <td>312</td>\n",
       "      <td>C0042487</td>\n",
       "      <td>Venous thrombosis</td>\n",
       "    </tr>\n",
       "    <tr>\n",
       "      <th>153662</th>\n",
       "      <td>DB05738</td>\n",
       "      <td>vapitadine dihydrochloride</td>\n",
       "      <td>312</td>\n",
       "      <td>C0042963</td>\n",
       "      <td>Vomiting</td>\n",
       "    </tr>\n",
       "  </tbody>\n",
       "</table>\n",
       "<p>153663 rows × 5 columns</p>\n",
       "</div>"
      ],
      "text/plain": [
       "       drugbank_id                                      drugbank_name  \\\n",
       "0          DB07768  (10ALPHA,13ALPHA,14BETA,17ALPHA)-17-HYDROXYAND...   \n",
       "1          DB07768  (10ALPHA,13ALPHA,14BETA,17ALPHA)-17-HYDROXYAND...   \n",
       "2          DB07768  (10ALPHA,13ALPHA,14BETA,17ALPHA)-17-HYDROXYAND...   \n",
       "3          DB07768  (10ALPHA,13ALPHA,14BETA,17ALPHA)-17-HYDROXYAND...   \n",
       "4          DB07768  (10ALPHA,13ALPHA,14BETA,17ALPHA)-17-HYDROXYAND...   \n",
       "...            ...                                                ...   \n",
       "153658     DB05738                         vapitadine dihydrochloride   \n",
       "153659     DB05738                         vapitadine dihydrochloride   \n",
       "153660     DB05738                         vapitadine dihydrochloride   \n",
       "153661     DB05738                         vapitadine dihydrochloride   \n",
       "153662     DB05738                         vapitadine dihydrochloride   \n",
       "\n",
       "        pubchem_id umls_cui_from_meddra          side_effect_name  \n",
       "0             6013             C0000729          Abdominal cramps  \n",
       "1             6013             C0000737            Abdominal pain  \n",
       "2             6013             C0232492      Abdominal pain upper  \n",
       "3             6013             C0740651         Abdominal symptom  \n",
       "4             6013             C0877331  Abnormal clotting factor  \n",
       "...            ...                  ...                       ...  \n",
       "153658         312             C0015230                      Rash  \n",
       "153659         312             C0234233                Tenderness  \n",
       "153660         312             C0041582                     Ulcer  \n",
       "153661         312             C0042487         Venous thrombosis  \n",
       "153662         312             C0042963                  Vomiting  \n",
       "\n",
       "[153663 rows x 5 columns]"
      ]
     },
     "execution_count": 9,
     "metadata": {},
     "output_type": "execute_result"
    }
   ],
   "source": [
    "data"
   ]
  },
  {
   "cell_type": "code",
   "execution_count": 10,
   "metadata": {
    "scrolled": true
   },
   "outputs": [
    {
     "data": {
      "text/html": [
       "<div>\n",
       "<style scoped>\n",
       "    .dataframe tbody tr th:only-of-type {\n",
       "        vertical-align: middle;\n",
       "    }\n",
       "\n",
       "    .dataframe tbody tr th {\n",
       "        vertical-align: top;\n",
       "    }\n",
       "\n",
       "    .dataframe thead th {\n",
       "        text-align: right;\n",
       "    }\n",
       "</style>\n",
       "<table border=\"1\" class=\"dataframe\">\n",
       "  <thead>\n",
       "    <tr style=\"text-align: right;\">\n",
       "      <th></th>\n",
       "      <th>drugbank_id</th>\n",
       "      <th>side_effect_name</th>\n",
       "    </tr>\n",
       "  </thead>\n",
       "  <tbody>\n",
       "    <tr>\n",
       "      <th>0</th>\n",
       "      <td>DB07768</td>\n",
       "      <td>Abdominal cramps</td>\n",
       "    </tr>\n",
       "    <tr>\n",
       "      <th>1</th>\n",
       "      <td>DB07768</td>\n",
       "      <td>Abdominal pain</td>\n",
       "    </tr>\n",
       "    <tr>\n",
       "      <th>2</th>\n",
       "      <td>DB07768</td>\n",
       "      <td>Abdominal pain upper</td>\n",
       "    </tr>\n",
       "    <tr>\n",
       "      <th>3</th>\n",
       "      <td>DB07768</td>\n",
       "      <td>Abdominal symptom</td>\n",
       "    </tr>\n",
       "    <tr>\n",
       "      <th>4</th>\n",
       "      <td>DB07768</td>\n",
       "      <td>Abnormal clotting factor</td>\n",
       "    </tr>\n",
       "    <tr>\n",
       "      <th>...</th>\n",
       "      <td>...</td>\n",
       "      <td>...</td>\n",
       "    </tr>\n",
       "    <tr>\n",
       "      <th>153658</th>\n",
       "      <td>DB05738</td>\n",
       "      <td>Rash</td>\n",
       "    </tr>\n",
       "    <tr>\n",
       "      <th>153659</th>\n",
       "      <td>DB05738</td>\n",
       "      <td>Tenderness</td>\n",
       "    </tr>\n",
       "    <tr>\n",
       "      <th>153660</th>\n",
       "      <td>DB05738</td>\n",
       "      <td>Ulcer</td>\n",
       "    </tr>\n",
       "    <tr>\n",
       "      <th>153661</th>\n",
       "      <td>DB05738</td>\n",
       "      <td>Venous thrombosis</td>\n",
       "    </tr>\n",
       "    <tr>\n",
       "      <th>153662</th>\n",
       "      <td>DB05738</td>\n",
       "      <td>Vomiting</td>\n",
       "    </tr>\n",
       "  </tbody>\n",
       "</table>\n",
       "<p>153663 rows × 2 columns</p>\n",
       "</div>"
      ],
      "text/plain": [
       "       drugbank_id          side_effect_name\n",
       "0          DB07768          Abdominal cramps\n",
       "1          DB07768            Abdominal pain\n",
       "2          DB07768      Abdominal pain upper\n",
       "3          DB07768         Abdominal symptom\n",
       "4          DB07768  Abnormal clotting factor\n",
       "...            ...                       ...\n",
       "153658     DB05738                      Rash\n",
       "153659     DB05738                Tenderness\n",
       "153660     DB05738                     Ulcer\n",
       "153661     DB05738         Venous thrombosis\n",
       "153662     DB05738                  Vomiting\n",
       "\n",
       "[153663 rows x 2 columns]"
      ]
     },
     "execution_count": 10,
     "metadata": {},
     "output_type": "execute_result"
    }
   ],
   "source": [
    "data[['drugbank_id','side_effect_name']]"
   ]
  },
  {
   "cell_type": "code",
   "execution_count": 11,
   "metadata": {},
   "outputs": [
    {
     "data": {
      "text/plain": [
       "DB00230    839\n",
       "DB01238    827\n",
       "DB01175    823\n",
       "DB00215    823\n",
       "DB00268    682\n",
       "          ... \n",
       "DB06691      1\n",
       "DB01303      1\n",
       "DB08604      1\n",
       "DB00122      1\n",
       "DB04789      1\n",
       "Name: drugbank_id, Length: 1223, dtype: int64"
      ]
     },
     "execution_count": 11,
     "metadata": {},
     "output_type": "execute_result"
    }
   ],
   "source": [
    "data['drugbank_id'].value_counts()"
   ]
  },
  {
   "cell_type": "code",
   "execution_count": 12,
   "metadata": {},
   "outputs": [
    {
     "data": {
      "text/plain": [
       "count    1223.000000\n",
       "mean      125.644317\n",
       "std       122.839377\n",
       "min         1.000000\n",
       "25%        42.000000\n",
       "50%        90.000000\n",
       "75%       169.500000\n",
       "max       839.000000\n",
       "Name: drugbank_id, dtype: float64"
      ]
     },
     "execution_count": 12,
     "metadata": {},
     "output_type": "execute_result"
    }
   ],
   "source": [
    "#각 약들이 몇개의 side effect를 가지고있는지\n",
    "data['drugbank_id'].value_counts().describe()"
   ]
  },
  {
   "cell_type": "code",
   "execution_count": 13,
   "metadata": {},
   "outputs": [
    {
     "data": {
      "text/plain": [
       "<AxesSubplot:>"
      ]
     },
     "execution_count": 13,
     "metadata": {},
     "output_type": "execute_result"
    },
    {
     "data": {
      "image/png": "[encoded data removed]",
      "text/plain": [
       "<Figure size 432x288 with 1 Axes>"
      ]
     },
     "metadata": {
      "needs_background": "light"
     },
     "output_type": "display_data"
    }
   ],
   "source": [
    "data['drugbank_id'].value_counts().hist()"
   ]
  },
  {
   "cell_type": "code",
   "execution_count": 14,
   "metadata": {},
   "outputs": [
    {
     "data": {
      "text/plain": [
       "count    5734.000000\n",
       "mean       26.798570\n",
       "std        80.392505\n",
       "min         1.000000\n",
       "25%         1.000000\n",
       "50%         4.000000\n",
       "75%        13.000000\n",
       "max      1038.000000\n",
       "Name: side_effect_name, dtype: float64"
      ]
     },
     "execution_count": 14,
     "metadata": {},
     "output_type": "execute_result"
    }
   ],
   "source": [
    "#각 side effect를 가지고있는 약물이 몇개인지\n",
    "data['side_effect_name'].value_counts().describe()"
   ]
  },
  {
   "cell_type": "code",
   "execution_count": 15,
   "metadata": {},
   "outputs": [
    {
     "data": {
      "text/plain": [
       "<AxesSubplot:>"
      ]
     },
     "execution_count": 15,
     "metadata": {},
     "output_type": "execute_result"
    },
    {
     "data": {
      "image/png": "[encoded data removed]",
      "text/plain": [
       "<Figure size 432x288 with 1 Axes>"
      ]
     },
     "metadata": {
      "needs_background": "light"
     },
     "output_type": "display_data"
    }
   ],
   "source": [
    "data['side_effect_name'].value_counts().hist()"
   ]
  },
  {
   "cell_type": "code",
   "execution_count": 16,
   "metadata": {},
   "outputs": [],
   "source": [
    "cross_tab = pd.crosstab(data.drugbank_id,data.side_effect_name,margins=True)"
   ]
  },
  {
   "cell_type": "code",
   "execution_count": 17,
   "metadata": {
    "scrolled": true
   },
   "outputs": [],
   "source": [
    "cross_tab = cross_tab[cross_tab.columns[cross_tab.loc['All']>=100]]\n",
    "cross_tab = cross_tab[cross_tab.All>=50]\n",
    "#cross_tab"
   ]
  },
  {
   "cell_type": "code",
   "execution_count": 18,
   "metadata": {},
   "outputs": [],
   "source": [
    "drug_side_matrix = cross_tab.iloc[:-1,:-1]"
   ]
  },
  {
   "cell_type": "code",
   "execution_count": 19,
   "metadata": {},
   "outputs": [],
   "source": [
    "processing_matrix = drug_side_matrix.loc[list(drug_side_matrix.index.isin(drugbank['DrugBank ID']))]\n",
    "processing_matrix = pd.merge(processing_matrix,drugbank[[\"DrugBank ID\",\"SMILES\"]],how='left',left_index=True,right_on='DrugBank ID')"
   ]
  },
  {
   "cell_type": "code",
   "execution_count": 20,
   "metadata": {},
   "outputs": [],
   "source": [
    "processing_matrix.index = processing_matrix[\"DrugBank ID\"]\n",
    "processing_matrix.drop('DrugBank ID',axis=1,inplace=True)"
   ]
  },
  {
   "cell_type": "markdown",
   "metadata": {},
   "source": [
    "# SMILES Preprocessing"
   ]
  },
  {
   "cell_type": "code",
   "execution_count": 21,
   "metadata": {},
   "outputs": [],
   "source": [
    "remover = SaltRemover()"
   ]
  },
  {
   "cell_type": "code",
   "execution_count": 22,
   "metadata": {},
   "outputs": [],
   "source": [
    "def remove_nonbonded(smiles):\n",
    "    a=[]\n",
    "    smiles_split = smiles.split(\".\")\n",
    "    for i in range(0,len(smiles_split)):\n",
    "        a.append(len(smiles_split[i]))\n",
    "    return smiles_split[a.index(max(a))]"
   ]
  },
  {
   "cell_type": "code",
   "execution_count": 23,
   "metadata": {},
   "outputs": [],
   "source": [
    "from rdkit.Chem import MACCSkeys\n",
    "def smiles_to_finger_MACCS(smiles):\n",
    "    mol_1 = Chem.MolFromSmiles(smiles)\n",
    "    mol_1.MACCS = MACCSkeys.GenMACCSKeys(mol_1).ToBitString()\n",
    "    prac = np.array(list(mol_1.MACCS))\n",
    "    return prac\n"
   ]
  },
  {
   "cell_type": "code",
   "execution_count": 24,
   "metadata": {},
   "outputs": [],
   "source": [
    "def smiles_to_finger(smiles,radian=2,nBits=1024):\n",
    "    \n",
    "    mol_1 = Chem.MolFromSmiles(smiles)\n",
    "    mol_1.ecfp4 = AllChem.GetMorganFingerprintAsBitVect(mol_1,radian,nBits)\n",
    "    prac = np.array(list(mol_1.ecfp4.ToBitString()))\n",
    "    return prac\n"
   ]
  },
  {
   "cell_type": "code",
   "execution_count": 25,
   "metadata": {},
   "outputs": [],
   "source": [
    "b= []\n",
    "for i in range(0,len(processing_matrix)):\n",
    "    try:\n",
    "        Chem.MolToSmiles(remover.StripMol(Chem.MolFromSmiles(remove_nonbonded(processing_matrix['SMILES'][i]))))\n",
    "    except:\n",
    "        b.append(i)\n",
    "        #print(i)\n",
    "        pass\n"
   ]
  },
  {
   "cell_type": "code",
   "execution_count": 26,
   "metadata": {},
   "outputs": [],
   "source": [
    "processing_matrix = processing_matrix.drop(processing_matrix.index[b]).reset_index().set_index(\"DrugBank ID\")\n",
    "\n",
    "processing_matrix['CANONICAL_SMILES']= (processing_matrix['SMILES'].apply(remove_nonbonded).apply(Chem.MolFromSmiles).apply(remover.StripMol).apply(lambda x:Chem.MolToSmiles(x,isomericSmiles=False)))\n",
    "#processing_matrix['CANONICAL_SMILES']= (processing_matrix['SMILES'].apply(Chem.MolFromSmiles).apply(remover.StripMol).apply(Chem.MolToSmiles))\n",
    "remove_ind = []\n",
    "for i in range(processing_matrix.shape[0]):\n",
    "    if len(processing_matrix.iloc[i,-1]) == 0:\n",
    "        remove_ind.append(i)\n",
    "        #processing_matrix.iloc[i,-1] = processing_matrix.iloc[i,-2]\n",
    "processing_matrix = processing_matrix.drop(processing_matrix.index[remove_ind],axis=0).reset_index().set_index(\"DrugBank ID\")"
   ]
  },
  {
   "cell_type": "code",
   "execution_count": 27,
   "metadata": {},
   "outputs": [],
   "source": [
    "processing_matrix = processing_matrix[~processing_matrix['CANONICAL_SMILES'].duplicated()]"
   ]
  },
  {
   "cell_type": "markdown",
   "metadata": {},
   "source": [
    "# Molecular Descriptor"
   ]
  },
  {
   "cell_type": "code",
   "execution_count": 28,
   "metadata": {},
   "outputs": [],
   "source": [
    "name = [\n",
    "    'MolWt',\n",
    "    'HeavyAtomMolWt',\n",
    "    'ExactMolWt',\n",
    "    'NumValenceElectrons',\n",
    "    'NumRadicalElectrons',\n",
    "    'MaxEStateIndex',\n",
    "    'MinEStateIndex',\n",
    "    'MaxAbsEStateIndex',\n",
    "    'MinAbsEStateIndex',\n",
    "    'BalabanJ',\n",
    "    'BertzCT',\n",
    "    'Chi0',\n",
    "    'Chi0n',\n",
    "    'Chi0v',\n",
    "    'Chi1',\n",
    "    'Chi1n',\n",
    "    'Chi1v',\n",
    "    'Chi2n',\n",
    "    'Chi2v',\n",
    "    'Chi3n',\n",
    "    'Chi3v',\n",
    "    'Chi4n',\n",
    "    'Chi4v',\n",
    "    'EState_VSA1',\n",
    "    'EState_VSA10',\n",
    "    'EState_VSA11',\n",
    "    'EState_VSA2',\n",
    "    'EState_VSA3',\n",
    "    'EState_VSA4',\n",
    "    'EState_VSA5',\n",
    "    'EState_VSA6',\n",
    "    'EState_VSA7',\n",
    "    'EState_VSA8',\n",
    "    'EState_VSA9',\n",
    "    'FractionCSP3',\n",
    "    'HallKierAlpha',\n",
    "    'HeavyAtomCount',\n",
    "    'Ipc',\n",
    "    'Kappa1',\n",
    "    'Kappa2',\n",
    "    'Kappa3',\n",
    "    'LabuteASA',\n",
    "    'MolLogP',\n",
    "    'MolMR',\n",
    "    'NHOHCount',\n",
    "    'NOCount',\n",
    "    'NumAliphaticCarbocycles',\n",
    "    'NumAliphaticHeterocycles',\n",
    "    'NumAliphaticRings',\n",
    "    'NumAromaticCarbocycles',\n",
    "    'NumAromaticHeterocycles',\n",
    "    'NumAromaticRings',\n",
    "    'NumHAcceptors',\n",
    "    'NumHDonors',\n",
    "    'NumHeteroatoms',\n",
    "    'NumRotatableBonds',\n",
    "    'NumSaturatedCarbocycles',\n",
    "    'NumSaturatedHeterocycles',\n",
    "    'NumSaturatedRings',\n",
    "    'PEOE_VSA1',\n",
    "    'PEOE_VSA10',\n",
    "    'PEOE_VSA11',\n",
    "    'PEOE_VSA12',\n",
    "    'PEOE_VSA13',\n",
    "    'PEOE_VSA14',\n",
    "    'PEOE_VSA2',\n",
    "    'PEOE_VSA3',\n",
    "    'PEOE_VSA4',\n",
    "    'PEOE_VSA5',\n",
    "    'PEOE_VSA6',\n",
    "    'PEOE_VSA7',\n",
    "    'PEOE_VSA8',\n",
    "    'PEOE_VSA9',\n",
    "    'RingCount',\n",
    "    'SMR_VSA1',\n",
    "    'SMR_VSA10',\n",
    "    'SMR_VSA2',\n",
    "    'SMR_VSA3',\n",
    "    'SMR_VSA4',\n",
    "    'SMR_VSA5',\n",
    "    'SMR_VSA6',\n",
    "    'SMR_VSA7',\n",
    "    'SMR_VSA8',\n",
    "    'SMR_VSA9',\n",
    "    'SlogP_VSA1',\n",
    "    'SlogP_VSA10',\n",
    "    'SlogP_VSA11',\n",
    "    'SlogP_VSA12',\n",
    "    'SlogP_VSA2',\n",
    "    'SlogP_VSA3',\n",
    "    'SlogP_VSA4',\n",
    "    'SlogP_VSA5',\n",
    "    'SlogP_VSA6',\n",
    "    'SlogP_VSA7',\n",
    "    'SlogP_VSA8',\n",
    "    'SlogP_VSA9',\n",
    "    'TPSA',\n",
    "    'VSA_EState1',\n",
    "    'VSA_EState10',\n",
    "    'VSA_EState2',\n",
    "    'VSA_EState3',\n",
    "    'VSA_EState4',\n",
    "    'VSA_EState5',\n",
    "    'VSA_EState6',\n",
    "    'VSA_EState7',\n",
    "    'VSA_EState8',\n",
    "    'VSA_EState9',\n",
    "    'fr_Al_COO',\n",
    "    'fr_Al_OH',\n",
    "    'fr_Al_OH_noTert',\n",
    "    'fr_ArN',\n",
    "    'fr_Ar_COO',\n",
    "    'fr_Ar_N',\n",
    "    'fr_Ar_NH',\n",
    "    'fr_Ar_OH',\n",
    "    'fr_COO',\n",
    "    'fr_COO2',\n",
    "    'fr_C_O',\n",
    "    'fr_C_O_noCOO',\n",
    "    'fr_C_S',\n",
    "    'fr_HOCCN',\n",
    "    'fr_Imine',\n",
    "    'fr_NH0',\n",
    "    'fr_NH1',\n",
    "    'fr_NH2',\n",
    "    'fr_N_O',\n",
    "    'fr_Ndealkylation1',\n",
    "    'fr_Ndealkylation2',\n",
    "    'fr_Nhpyrrole',\n",
    "    'fr_SH',\n",
    "    'fr_aldehyde',\n",
    "    'fr_alkyl_carbamate',\n",
    "    'fr_alkyl_halide',\n",
    "    'fr_allylic_oxid',\n",
    "    'fr_amide',\n",
    "    'fr_amidine',\n",
    "    'fr_aniline',\n",
    "    'fr_aryl_methyl',\n",
    "    'fr_azide',\n",
    "    'fr_azo',\n",
    "    'fr_barbitur',\n",
    "    'fr_benzene',\n",
    "    'fr_benzodiazepine',\n",
    "    'fr_bicyclic',\n",
    "    'fr_diazo',\n",
    "    'fr_dihydropyridine',\n",
    "    'fr_epoxide',\n",
    "    'fr_ester',\n",
    "    'fr_ether',\n",
    "    'fr_furan',\n",
    "    'fr_guanido',\n",
    "    'fr_halogen',\n",
    "    'fr_hdrzine',\n",
    "    'fr_hdrzone',\n",
    "    'fr_imidazole',\n",
    "    'fr_imide',\n",
    "    'fr_isocyan',\n",
    "    'fr_isothiocyan',\n",
    "    'fr_ketone',\n",
    "    'fr_ketone_Topliss',\n",
    "    'fr_lactam',\n",
    "    'fr_lactone',\n",
    "    'fr_methoxy',\n",
    "    'fr_morpholine',\n",
    "    'fr_nitrile',\n",
    "    'fr_nitro',\n",
    "    'fr_nitro_arom',\n",
    "    'fr_nitro_arom_nonortho',\n",
    "    'fr_nitroso',\n",
    "    'fr_oxazole',\n",
    "    'fr_oxime',\n",
    "    'fr_para_hydroxylation',\n",
    "    'fr_phenol',\n",
    "    'fr_phenol_noOrthoHbond',\n",
    "    'fr_phos_acid',\n",
    "    'fr_phos_ester',\n",
    "    'fr_piperdine',\n",
    "    'fr_piperzine',\n",
    "    'fr_priamide',\n",
    "    'fr_prisulfonamd',\n",
    "    'fr_pyridine',\n",
    "    'fr_quatN',\n",
    "    'fr_sulfide',\n",
    "    'fr_sulfonamd',\n",
    "    'fr_sulfone',\n",
    "    'fr_term_acetylene',\n",
    "    'fr_tetrazole',\n",
    "    'fr_thiazole',\n",
    "    'fr_thiocyan',\n",
    "    'fr_thiophene',\n",
    "    'fr_unbrch_alkane',\n",
    "    'fr_urea',\n",
    "    'MaxAbsPartialCharge',\n",
    "    'MaxPartialCharge',\n",
    "    'MinAbsPartialCharge',\n",
    "    'MinPartialCharge'\n",
    "]\n",
    "\n",
    "function = [\n",
    "    Descriptors.MolWt,\n",
    "    Descriptors.HeavyAtomMolWt,\n",
    "    Descriptors.ExactMolWt,\n",
    "    Descriptors.NumValenceElectrons,\n",
    "    Descriptors.NumRadicalElectrons,\n",
    "    # http://www.rdkit.org/docs/api/rdkit.Chem.Descriptors-module.html\n",
    "    Descriptors.MaxEStateIndex,\n",
    "    Descriptors.MinEStateIndex,\n",
    "    Descriptors.MaxAbsEStateIndex,\n",
    "    Descriptors.MinAbsEStateIndex,\n",
    "    Descriptors.BalabanJ,\n",
    "    Descriptors.BertzCT,\n",
    "    Descriptors.Chi0,\n",
    "    Descriptors.Chi0n,\n",
    "    Descriptors.Chi0v,\n",
    "    Descriptors.Chi1,\n",
    "    Descriptors.Chi1n,\n",
    "    Descriptors.Chi1v,\n",
    "    Descriptors.Chi2n,\n",
    "    Descriptors.Chi2v,\n",
    "    Descriptors.Chi3n,\n",
    "    Descriptors.Chi3v,\n",
    "    Descriptors.Chi4n,\n",
    "    Descriptors.Chi4v,\n",
    "    Descriptors.EState_VSA1,\n",
    "    Descriptors.EState_VSA10,\n",
    "    Descriptors.EState_VSA11,\n",
    "    Descriptors.EState_VSA2,\n",
    "    Descriptors.EState_VSA3,\n",
    "    Descriptors.EState_VSA4,\n",
    "    Descriptors.EState_VSA5,\n",
    "    Descriptors.EState_VSA6,\n",
    "    Descriptors.EState_VSA7,\n",
    "    Descriptors.EState_VSA8,\n",
    "    Descriptors.EState_VSA9,\n",
    "    Descriptors.FractionCSP3,\n",
    "    Descriptors.HallKierAlpha,\n",
    "    Descriptors.HeavyAtomCount,\n",
    "    Descriptors.Ipc,\n",
    "    Descriptors.Kappa1,\n",
    "    Descriptors.Kappa2,\n",
    "    Descriptors.Kappa3,\n",
    "    Descriptors.LabuteASA,\n",
    "    Descriptors.MolLogP,\n",
    "    Descriptors.MolMR,\n",
    "    Descriptors.NHOHCount,\n",
    "    Descriptors.NOCount,\n",
    "    Descriptors.NumAliphaticCarbocycles,\n",
    "    Descriptors.NumAliphaticHeterocycles,\n",
    "    Descriptors.NumAliphaticRings,\n",
    "    Descriptors.NumAromaticCarbocycles,\n",
    "    Descriptors.NumAromaticHeterocycles,\n",
    "    Descriptors.NumAromaticRings,\n",
    "    Descriptors.NumHAcceptors,\n",
    "    Descriptors.NumHDonors,\n",
    "    Descriptors.NumHeteroatoms,\n",
    "    Descriptors.NumRotatableBonds,\n",
    "    Descriptors.NumSaturatedCarbocycles,\n",
    "    Descriptors.NumSaturatedHeterocycles,\n",
    "    Descriptors.NumSaturatedRings,\n",
    "    Descriptors.PEOE_VSA1,\n",
    "    Descriptors.PEOE_VSA10,\n",
    "    Descriptors.PEOE_VSA11,\n",
    "    Descriptors.PEOE_VSA12,\n",
    "    Descriptors.PEOE_VSA13,\n",
    "    Descriptors.PEOE_VSA14,\n",
    "    Descriptors.PEOE_VSA2,\n",
    "    Descriptors.PEOE_VSA3,\n",
    "    Descriptors.PEOE_VSA4,\n",
    "    Descriptors.PEOE_VSA5,\n",
    "    Descriptors.PEOE_VSA6,\n",
    "    Descriptors.PEOE_VSA7,\n",
    "    Descriptors.PEOE_VSA8,\n",
    "    Descriptors.PEOE_VSA9,\n",
    "    Descriptors.RingCount,\n",
    "    Descriptors.SMR_VSA1,\n",
    "    Descriptors.SMR_VSA10,\n",
    "    Descriptors.SMR_VSA2,\n",
    "    Descriptors.SMR_VSA3,\n",
    "    Descriptors.SMR_VSA4,\n",
    "    Descriptors.SMR_VSA5,\n",
    "    Descriptors.SMR_VSA6,\n",
    "    Descriptors.SMR_VSA7,\n",
    "    Descriptors.SMR_VSA8,\n",
    "    Descriptors.SMR_VSA9,\n",
    "    Descriptors.SlogP_VSA1,\n",
    "    Descriptors.SlogP_VSA10,\n",
    "    Descriptors.SlogP_VSA11,\n",
    "    Descriptors.SlogP_VSA12,\n",
    "    Descriptors.SlogP_VSA2,\n",
    "    Descriptors.SlogP_VSA3,\n",
    "    Descriptors.SlogP_VSA4,\n",
    "    Descriptors.SlogP_VSA5,\n",
    "    Descriptors.SlogP_VSA6,\n",
    "    Descriptors.SlogP_VSA7,\n",
    "    Descriptors.SlogP_VSA8,\n",
    "    Descriptors.SlogP_VSA9,\n",
    "    Descriptors.TPSA,\n",
    "    Descriptors.VSA_EState1,\n",
    "    Descriptors.VSA_EState10,\n",
    "    Descriptors.VSA_EState2,\n",
    "    Descriptors.VSA_EState3,\n",
    "    Descriptors.VSA_EState4,\n",
    "    Descriptors.VSA_EState5,\n",
    "    Descriptors.VSA_EState6,\n",
    "    Descriptors.VSA_EState7,\n",
    "    Descriptors.VSA_EState8,\n",
    "    Descriptors.VSA_EState9,\n",
    "    Descriptors.fr_Al_COO,\n",
    "    Descriptors.fr_Al_OH,\n",
    "    Descriptors.fr_Al_OH_noTert,\n",
    "    Descriptors.fr_ArN,\n",
    "    Descriptors.fr_Ar_COO,\n",
    "    Descriptors.fr_Ar_N,\n",
    "    Descriptors.fr_Ar_NH,\n",
    "    Descriptors.fr_Ar_OH,\n",
    "    Descriptors.fr_COO,\n",
    "    Descriptors.fr_COO2,\n",
    "    Descriptors.fr_C_O,\n",
    "    Descriptors.fr_C_O_noCOO,\n",
    "    Descriptors.fr_C_S,\n",
    "    Descriptors.fr_HOCCN,\n",
    "    Descriptors.fr_Imine,\n",
    "    Descriptors.fr_NH0,\n",
    "    Descriptors.fr_NH1,\n",
    "    Descriptors.fr_NH2,\n",
    "    Descriptors.fr_N_O,\n",
    "    Descriptors.fr_Ndealkylation1,\n",
    "    Descriptors.fr_Ndealkylation2,\n",
    "    Descriptors.fr_Nhpyrrole,\n",
    "    Descriptors.fr_SH,\n",
    "    Descriptors.fr_aldehyde,\n",
    "    Descriptors.fr_alkyl_carbamate,\n",
    "    Descriptors.fr_alkyl_halide,\n",
    "    Descriptors.fr_allylic_oxid,\n",
    "    Descriptors.fr_amide,\n",
    "    Descriptors.fr_amidine,\n",
    "    Descriptors.fr_aniline,\n",
    "    Descriptors.fr_aryl_methyl,\n",
    "    Descriptors.fr_azide,\n",
    "    Descriptors.fr_azo,\n",
    "    Descriptors.fr_barbitur,\n",
    "    Descriptors.fr_benzene,\n",
    "    Descriptors.fr_benzodiazepine,\n",
    "    Descriptors.fr_bicyclic,\n",
    "    Descriptors.fr_diazo,\n",
    "    Descriptors.fr_dihydropyridine,\n",
    "    Descriptors.fr_epoxide,\n",
    "    Descriptors.fr_ester,\n",
    "    Descriptors.fr_ether,\n",
    "    Descriptors.fr_furan,\n",
    "    Descriptors.fr_guanido,\n",
    "    Descriptors.fr_halogen,\n",
    "    Descriptors.fr_hdrzine,\n",
    "    Descriptors.fr_hdrzone,\n",
    "    Descriptors.fr_imidazole,\n",
    "    Descriptors.fr_imide,\n",
    "    Descriptors.fr_isocyan,\n",
    "    Descriptors.fr_isothiocyan,\n",
    "    Descriptors.fr_ketone,\n",
    "    Descriptors.fr_ketone_Topliss,\n",
    "    Descriptors.fr_lactam,\n",
    "    Descriptors.fr_lactone,\n",
    "    Descriptors.fr_methoxy,\n",
    "    Descriptors.fr_morpholine,\n",
    "    Descriptors.fr_nitrile,\n",
    "    Descriptors.fr_nitro,\n",
    "    Descriptors.fr_nitro_arom,\n",
    "    Descriptors.fr_nitro_arom_nonortho,\n",
    "    Descriptors.fr_nitroso,\n",
    "    Descriptors.fr_oxazole,\n",
    "    Descriptors.fr_oxime,\n",
    "    Descriptors.fr_para_hydroxylation,\n",
    "    Descriptors.fr_phenol,\n",
    "    Descriptors.fr_phenol_noOrthoHbond,\n",
    "    Descriptors.fr_phos_acid,\n",
    "    Descriptors.fr_phos_ester,\n",
    "    Descriptors.fr_piperdine,\n",
    "    Descriptors.fr_piperzine,\n",
    "    Descriptors.fr_priamide,\n",
    "    Descriptors.fr_prisulfonamd,\n",
    "    Descriptors.fr_pyridine,\n",
    "    Descriptors.fr_quatN,\n",
    "    Descriptors.fr_sulfide,\n",
    "    Descriptors.fr_sulfonamd,\n",
    "    Descriptors.fr_sulfone,\n",
    "    Descriptors.fr_term_acetylene,\n",
    "    Descriptors.fr_tetrazole,\n",
    "    Descriptors.fr_thiazole,\n",
    "    Descriptors.fr_thiocyan,\n",
    "    Descriptors.fr_thiophene,\n",
    "    Descriptors.fr_unbrch_alkane,\n",
    "    Descriptors.fr_urea,\n",
    "    Descriptors.MaxAbsPartialCharge,\n",
    "    Descriptors.MaxPartialCharge,\n",
    "    Descriptors.MinAbsPartialCharge,\n",
    "    Descriptors.MinPartialCharge\n",
    "]"
   ]
  },
  {
   "cell_type": "code",
   "execution_count": 29,
   "metadata": {},
   "outputs": [],
   "source": [
    "c = []\n",
    "for i in range(len(processing_matrix)):\n",
    "    try:\n",
    "        Descriptors.MaxEStateIndex(Chem.MolFromSmiles(processing_matrix['CANONICAL_SMILES'][i]))\n",
    "    except:\n",
    "        print(i)\n",
    "        c.append(i)\n",
    "        pass"
   ]
  },
  {
   "cell_type": "code",
   "execution_count": 30,
   "metadata": {},
   "outputs": [],
   "source": [
    "processing_matrix = processing_matrix.drop(processing_matrix.index[c])\n",
    "descriptor_matrix = processing_matrix.copy()"
   ]
  },
  {
   "cell_type": "code",
   "execution_count": 31,
   "metadata": {
    "scrolled": true
   },
   "outputs": [],
   "source": [
    "descriptor_matrix['Mol'] = descriptor_matrix['CANONICAL_SMILES'].apply(Chem.MolFromSmiles)\n",
    "for i in range(len(name)):\n",
    "    #print(i)\n",
    "    descriptor_matrix[name[i]] = descriptor_matrix['Mol'].apply(function[i]) #함수적용 \n",
    "    \n",
    "descriptor_matrix = descriptor_matrix.drop(['Mol'],axis=1)\n",
    "descriptor_matrix = descriptor_matrix[(descriptor_matrix.MolWt>=180) & (descriptor_matrix.MolWt<=480)].reset_index().set_index(\"DrugBank ID\")\n",
    "descriptor_matrix.drop(descriptor_matrix.index[np.where(descriptor_matrix.isnull().sum(axis=1)>=1)],inplace=True)\n",
    "processing_matrix = descriptor_matrix.iloc[:,:383].copy()"
   ]
  },
  {
   "cell_type": "code",
   "execution_count": 32,
   "metadata": {},
   "outputs": [
    {
     "data": {
      "text/plain": [
       "5"
      ]
     },
     "execution_count": 32,
     "metadata": {},
     "output_type": "execute_result"
    }
   ],
   "source": [
    "# 5 fold cross validation\n",
    "split = RepeatedKFold(n_splits=5, n_repeats=1, random_state=42)\n",
    "split.get_n_splits()"
   ]
  },
  {
   "cell_type": "code",
   "execution_count": 58,
   "metadata": {},
   "outputs": [
    {
     "data": {
      "application/vnd.jupyter.widget-view+json": {
       "model_id": "d031951a70fa47fbadf05e2acc7e3325",
       "version_major": 2,
       "version_minor": 0
      },
      "text/plain": [
       "HBox(children=(HTML(value='k-fold'), FloatProgress(value=0.0, max=5.0), HTML(value='')))"
      ]
     },
     "metadata": {},
     "output_type": "display_data"
    },
    {
     "name": "stdout",
     "output_type": "stream",
     "text": [
      "\n"
     ]
    }
   ],
   "source": [
    "k=381\n",
    "acc = []\n",
    "jaccard = []\n",
    "hamming = []\n",
    "acc_mean = []\n",
    "jaccard_mean = []\n",
    "hamming_mean = []\n",
    "f_score = []\n",
    "f_score_mean = []\n",
    "rf = RandomForestClassifier(n_estimators=500,random_state=42)\n",
    "for train_idx,test_idx in tqdm_notebook(split.split(descriptor_matrix),total=split.get_n_splits(),desc=\"k-fold\"):\n",
    "    X_train_des = descriptor_matrix.iloc[train_idx,383:]\n",
    "    X_test_des = descriptor_matrix.iloc[test_idx,383:]\n",
    "    y_train_des =  descriptor_matrix.iloc[train_idx,:381]\n",
    "    y_test_des = descriptor_matrix.iloc[test_idx,:381]\n",
    "    \n",
    "    \n",
    "    rf.fit(X_train_des,y_train_des)\n",
    "    predicted_des = rf.predict(X_test_des)\n",
    "    pred_proba_des = rf.predict_proba(X_test_des)\n",
    "    for i in range(X_test_des.shape[0]):\n",
    "        pred_idx = np.array(pred_proba_des)[:,:,1].transpose().argsort()[i][::-1][:k]\n",
    "        y_true_des = y_test_des.values[i,pred_idx]\n",
    "        y_pred_des = predicted_des[i,pred_idx]\n",
    "        y_proba_des = np.array(pred_proba_des)[:,:,1].transpose()[i,pred_idx][:k]    \n",
    "        \n",
    "        acc.append(accuracy_score(y_true_des,y_pred_des))\n",
    "        jaccard.append(jaccard_score(y_true_des,y_pred_des))\n",
    "        hamming.append(hamming_loss(y_true_des,y_pred_des))\n",
    "        f_score.append(f1_score(y_true_des,y_pred_des))\n",
    "    acc_mean.append(np.round(np.mean(acc),4))\n",
    "    jaccard_mean.append(np.round(np.mean(jaccard),4))\n",
    "    hamming_mean.append(np.round(np.mean(hamming),4))\n",
    "    f_score_mean.append(np.round(np.mean(f_score),4))"
   ]
  },
  {
   "cell_type": "markdown",
   "metadata": {},
   "source": [
    "# Fingerprint"
   ]
  },
  {
   "cell_type": "code",
   "execution_count": 34,
   "metadata": {},
   "outputs": [],
   "source": [
    "fingerprint = processing_matrix['CANONICAL_SMILES'].apply(smiles_to_finger)\n",
    "fingerprint = pd.DataFrame(fingerprint.to_list(), index=fingerprint.index)"
   ]
  },
  {
   "cell_type": "code",
   "execution_count": 35,
   "metadata": {},
   "outputs": [],
   "source": [
    "fingerprint_matrix = pd.concat([processing_matrix,fingerprint],axis=1)"
   ]
  },
  {
   "cell_type": "code",
   "execution_count": null,
   "metadata": {},
   "outputs": [],
   "source": []
  },
  {
   "cell_type": "code",
   "execution_count": 51,
   "metadata": {},
   "outputs": [],
   "source": [
    "X_train_finger, X_test_finger, y_train_finger, y_test_finger = train_test_split(fingerprint_matrix.iloc[:,383:],fingerprint_matrix.iloc[:,:381],test_size=0.2,random_state=42)\n",
    "rf = RandomForestClassifier(n_estimators=500,random_state=42)\n",
    "rf.fit(X_train_finger,y_train_finger)\n",
    "predicted_finger = rf.predict(X_test_finger)\n",
    "pred_proba_finger = rf.predict_proba(X_test_finger)\n"
   ]
  },
  {
   "cell_type": "code",
   "execution_count": 59,
   "metadata": {},
   "outputs": [
    {
     "data": {
      "application/vnd.jupyter.widget-view+json": {
       "model_id": "e0330dfa357d41188136831cad3d03a4",
       "version_major": 2,
       "version_minor": 0
      },
      "text/plain": [
       "HBox(children=(HTML(value='k-fold'), FloatProgress(value=0.0, max=5.0), HTML(value='')))"
      ]
     },
     "metadata": {},
     "output_type": "display_data"
    },
    {
     "name": "stdout",
     "output_type": "stream",
     "text": [
      "\n"
     ]
    }
   ],
   "source": [
    "k=381\n",
    "jaccard2 = []\n",
    "hamming2 = []\n",
    "jaccard2_mean = []\n",
    "hamming2_mean = []\n",
    "f_score2 = []\n",
    "f_score2_mean = []\n",
    "#from sklearn.metrics import jjaccardard_score\n",
    "rf = RandomForestClassifier(n_estimators=500,random_state=42)\n",
    "for train_idx,test_idx in tqdm_notebook(split.split(fingerprint_matrix),total=split.get_n_splits(),desc=\"k-fold\"):\n",
    "    X_train_finger = fingerprint_matrix.iloc[train_idx,383:]\n",
    "    X_test_finger = fingerprint_matrix.iloc[test_idx,383:]\n",
    "    y_train_finger =  fingerprint_matrix.iloc[train_idx,:381]\n",
    "    y_test_finger = fingerprint_matrix.iloc[test_idx,:381]\n",
    "    \n",
    "    \n",
    "    rf.fit(X_train_finger,y_train_finger)\n",
    "    predicted_finger = rf.predict(X_test_finger)\n",
    "    pred_proba_finger = rf.predict_proba(X_test_finger)\n",
    "    for i in range(X_test_finger.shape[0]):\n",
    "        pred_idx = np.array(pred_proba_finger)[:,:,1].transpose().argsort()[i][::-1][:k]\n",
    "        y_true_finger = y_test_finger.values[i,pred_idx]\n",
    "        y_pred_finger = predicted_finger[i,pred_idx]\n",
    "        y_proba_finger = np.array(pred_proba_finger)[:,:,1].transpose()[i,pred_idx][:k]    \n",
    "        \n",
    "        jaccard2.append(jaccard_score(y_true_finger,y_pred_finger))\n",
    "        hamming2.append(hamming_loss(y_true_finger,y_pred_finger))\n",
    "        f_score2.append(f1_score(y_true_finger,y_pred_finger))\n",
    "    f_score2_mean.append(np.round(np.mean(f_score2),4))\n",
    "    jaccard2_mean.append(np.round(np.mean(jaccard2),4))\n",
    "    hamming2_mean.append(np.round(np.mean(hamming2),4))"
   ]
  },
  {
   "cell_type": "markdown",
   "metadata": {},
   "source": [
    "# Graph Dataset"
   ]
  },
  {
   "cell_type": "code",
   "execution_count": 60,
   "metadata": {},
   "outputs": [],
   "source": [
    "def convert_to_graph(smiles_list,maxNumAtoms=50):\n",
    "    adj = []\n",
    "    adj_norm = []\n",
    "    features = []\n",
    "    sums = []\n",
    "    maxNumAtoms = maxNumAtoms\n",
    "    k = []\n",
    "    for i in tqdm_notebook(smiles_list, desc='Converting to Graph'):\n",
    "        # Mol\n",
    "        iMol = Chem.MolFromSmiles(i.strip())\n",
    "        #Adj\n",
    "        iAdjTmp = Chem.rdmolops.GetAdjacencyMatrix(iMol)\n",
    "        #print(iAdjTmp.shape[0])\n",
    "        # Feature\n",
    "        if( iAdjTmp.shape[0] <= maxNumAtoms):\n",
    "            # Feature-preprocessing\n",
    "            iFeature = np.zeros((maxNumAtoms, 32))\n",
    "            iFeatureTmp = []\n",
    "            for atom in iMol.GetAtoms():\n",
    "                iFeatureTmp.append( atom_feature(atom) ) ### atom features only\n",
    "            iFeature[0:len(iFeatureTmp), 0:32] = iFeatureTmp ### 0 padding for feature-set\n",
    "            features.append(iFeature)\n",
    "\n",
    "            # Adj-preprocessing\n",
    "            iAdj = np.zeros((maxNumAtoms, maxNumAtoms))\n",
    "            iAdj[0:len(iFeatureTmp), 0:len(iFeatureTmp)] = iAdjTmp# + np.eye(len(iFeatureTmp))\n",
    "            adj.append(np.asarray(iAdj))\n",
    "        else :\n",
    "          k.append(i)  \n",
    "    features = np.asarray(features)\n",
    "\n",
    "    return features, adj,k\n",
    "    \n",
    "def atom_feature(atom):\n",
    "    return np.array(one_of_k_encoding_unk(atom.GetSymbol(),\n",
    "                                      [\"H\",\"B\",\"C\",\"N\",\"O\",\"F\",\"Na\",\"P\",\"S\",\"Cl\",\"Ca\",\"Br\",\"I\",\"X\"]) +\n",
    "                    one_of_k_encoding(atom.GetDegree(), [0, 1, 2, 3, 4, 5]) +\n",
    "                    one_of_k_encoding_unk(atom.GetTotalNumHs(), [0, 1, 2, 3, 4]) +\n",
    "                    one_of_k_encoding_unk(atom.GetImplicitValence(), [0, 1, 2, 3, 4, 5]) +\n",
    "                    [atom.GetIsAromatic()])     #(14,6,5,6,1)\n",
    "                    # (40, 6, 5, 6, 1)\n"
   ]
  },
  {
   "cell_type": "code",
   "execution_count": 61,
   "metadata": {},
   "outputs": [],
   "source": [
    "def one_of_k_encoding(x, allowable_set):\n",
    "    if x not in allowable_set:\n",
    "        raise Exception(\"input {0} not in allowable set{1}:\".format(x, allowable_set))\n",
    "    return list(map(lambda s: x == s, allowable_set))\n",
    "\n",
    "def one_of_k_encoding_unk(x, allowable_set):\n",
    "    \"\"\"Maps inputs not in the allowable set to the last element.\"\"\"\n",
    "    if x not in allowable_set:\n",
    "        x = allowable_set[-1]\n",
    "    return list(map(lambda s: x == s, allowable_set))"
   ]
  },
  {
   "cell_type": "code",
   "execution_count": 62,
   "metadata": {},
   "outputs": [
    {
     "data": {
      "application/vnd.jupyter.widget-view+json": {
       "model_id": "f399dbbd61af4d7292a384b5455d7d05",
       "version_major": 2,
       "version_minor": 0
      },
      "text/plain": [
       "HBox(children=(HTML(value='Converting to Graph'), FloatProgress(value=0.0, max=574.0), HTML(value='')))"
      ]
     },
     "metadata": {},
     "output_type": "display_data"
    },
    {
     "name": "stdout",
     "output_type": "stream",
     "text": [
      "\n"
     ]
    }
   ],
   "source": [
    "list_feature, list_adj,_ = convert_to_graph(processing_matrix[\"CANONICAL_SMILES\"].to_list(),maxNumAtoms=41)"
   ]
  },
  {
   "cell_type": "code",
   "execution_count": 63,
   "metadata": {},
   "outputs": [
    {
     "data": {
      "application/vnd.jupyter.widget-view+json": {
       "model_id": "aed7e3712a194d6b87d4f2b6e2247eda",
       "version_major": 2,
       "version_minor": 0
      },
      "text/plain": [
       "HBox(children=(HTML(value='Converting to Graph'), FloatProgress(value=0.0, max=574.0), HTML(value='')))"
      ]
     },
     "metadata": {},
     "output_type": "display_data"
    },
    {
     "name": "stdout",
     "output_type": "stream",
     "text": [
      "\n"
     ]
    }
   ],
   "source": [
    "aug_list_feature, aug_list_adj,_ = convert_to_graph(processing_matrix[\"SMILES\"].to_list(),maxNumAtoms=41)"
   ]
  },
  {
   "cell_type": "code",
   "execution_count": 64,
   "metadata": {
    "scrolled": true
   },
   "outputs": [],
   "source": [
    "from keras.models import Input, Model, Sequential\n",
    "from keras.layers import Dense, Activation, Dropout, Lambda\n",
    "import keras.backend as K\n",
    "import numpy as np\n",
    "import pandas as pd\n",
    "from sklearn.utils import shuffle\n",
    "\n",
    "from keras_dgl.utils import *\n",
    "from keras_dgl.layers import MultiGraphCNN\n",
    "from keras import optimizers\n",
    "import tensorflow as tf\n",
    "import tensorflow.compat.v1\n",
    "tf.disable_v2_behavior()\n",
    "#tf.compat.v1.global_variables()"
   ]
  },
  {
   "cell_type": "code",
   "execution_count": 65,
   "metadata": {},
   "outputs": [],
   "source": [
    "def normalize_adj_numpy_for_paper(adj, symmetric=True):\n",
    "    if symmetric:\n",
    "        d = np.diag(np.array([np.power(k,-0.5) if k!=0 else 0 for k in np.array(adj.sum(1))]).flatten(),0)\n",
    "        a_norm = adj.dot(d).transpose().dot(d)\n",
    "    else:\n",
    "        d = np.diag(np.array([np.power(k,-1) if k!=0 else 0 for k in np.array(adj.sum(1))]).flatten(),0)\n",
    "        a_norm = d.dot(adj)\n",
    "    return a_norm"
   ]
  },
  {
   "cell_type": "code",
   "execution_count": 66,
   "metadata": {},
   "outputs": [],
   "source": [
    "def preprocess_adj_tensor_with_identity_for_paper(adj_tensor, symmetric=True):\n",
    "    adj_out_tensor = []\n",
    "    for i in range(adj_tensor.shape[0]):\n",
    "        adj = adj_tensor[i]\n",
    "        adj = adj + np.eye(adj.shape[0])\n",
    "        #adj = normalize_adj_numpy(adj, symmetric)\n",
    "        adj = np.concatenate([np.eye(adj.shape[0]), adj], axis=0)\n",
    "        adj_out_tensor.append(adj)\n",
    "    adj_out_tensor = np.array(adj_out_tensor)\n",
    "    return adj_out_tensor"
   ]
  },
  {
   "cell_type": "raw",
   "metadata": {},
   "source": [
    "feature_train, feature_test, y_train_gcn, y_test_gcn = train_test_split(list_feature,processing_matrix.iloc[:,:381],test_size=0.2,random_state=42)"
   ]
  },
  {
   "cell_type": "raw",
   "metadata": {},
   "source": [
    "adj_train, adj_test, _, _ = train_test_split(np.array(list_adj),processing_matrix.iloc[:,:381],test_size=0.2,random_state=42)"
   ]
  },
  {
   "cell_type": "code",
   "execution_count": 79,
   "metadata": {
    "scrolled": true
   },
   "outputs": [
    {
     "data": {
      "application/vnd.jupyter.widget-view+json": {
       "model_id": "d35d2fbdd14841a7a52ead763a56bc24",
       "version_major": 2,
       "version_minor": 0
      },
      "text/plain": [
       "HBox(children=(HTML(value='k-fold'), FloatProgress(value=0.0, max=5.0), HTML(value='')))"
      ]
     },
     "metadata": {},
     "output_type": "display_data"
    },
    {
     "name": "stdout",
     "output_type": "stream",
     "text": [
      "367\n",
      "367\n",
      "367\n",
      "367\n",
      "368\n",
      "\n"
     ]
    }
   ],
   "source": [
    "k=381\n",
    "Aug=False\n",
    "SYM_NORM=False\n",
    "acc3 = []\n",
    "jaccard3 = []\n",
    "hamming3 = []\n",
    "acc3_mean = []\n",
    "jaccard3_mean = []\n",
    "hamming3_mean = []\n",
    "f_score3 = []\n",
    "f_score3_mean = []\n",
    "\n",
    "for train_idx,test_idx in tqdm_notebook(split.split(list_feature),total=split.get_n_splits(),desc=\"k-fold\"):\n",
    "    feature_train = list_feature[train_idx]\n",
    "    feature_test = list_feature[test_idx]\n",
    "    adj_train = np.array(list_adj)[train_idx]\n",
    "    adj_test = np.array(list_adj)[test_idx]\n",
    "    y_train_gcn = processing_matrix.iloc[train_idx,:381]\n",
    "    y_test_gcn = processing_matrix.iloc[test_idx,:381]\n",
    "    \n",
    "    \n",
    "    if Aug==True:\n",
    "        adj_train = np.concatenate([adj_train,np.array(aug_list_adj)])\n",
    "        feature_train = np.concatenate([feature_train,aug_list_feature])\n",
    "        y_train_gcn = np.concatenate([y_train_gcn,processing_matrix.iloc[:,:381]])\n",
    "    \n",
    "    graph_conv_filters = preprocess_adj_tensor_with_identity_for_paper(adj_train, SYM_NORM)\n",
    "    adj_test = preprocess_adj_tensor_with_identity_for_paper(adj_test, SYM_NORM)\n",
    "    \n",
    "    \n",
    "    nb_epochs = 300\n",
    "    batch_size = int(feature_train.shape[0]*0.8)\n",
    "    print(batch_size)\n",
    "    Adam = optimizers.Adam(lr = 0.009)\n",
    "    num_filters=2\n",
    "    X_input = Input(shape=(feature_train.shape[1], feature_train.shape[2]))\n",
    "    graph_conv_filters_input = Input(shape=(graph_conv_filters.shape[1], graph_conv_filters.shape[2]))\n",
    "        \n",
    "    output = MultiGraphCNN(80, num_filters, activation='relu',use_bias=False)([X_input, graph_conv_filters_input])\n",
    "    output = Dropout(0.25)(output)\n",
    "    output = MultiGraphCNN(80, num_filters, activation='relu',use_bias=False)([output, graph_conv_filters_input])\n",
    "    output = Dropout(0.25)(output)\n",
    "    output = Lambda(lambda x: K.mean(x, axis=1))(output)  # adding a node invariant layer to make sure output does not depends upon the node order in a graph.\n",
    "    #output = Dense(200)(output)\n",
    "    output = Dense(y_train_gcn.shape[1])(output)\n",
    "    output = Activation('sigmoid')(output)\n",
    "    \n",
    "\n",
    "    model = Model(inputs=[X_input, graph_conv_filters_input], outputs=output)\n",
    "    model.compile(loss='binary_crossentropy', optimizer=Adam, metrics=['accuracy'])\n",
    "    model.fit([feature_train, graph_conv_filters], y_train_gcn, batch_size=batch_size, validation_split=0.2, epochs=nb_epochs, verbose=0)\n",
    "    \n",
    "    \n",
    "    pred_proba_gcn = model.predict([feature_test,adj_test],steps=1)\n",
    "    \n",
    "    for i in range(y_test_gcn.shape[0]):\n",
    "        pred_idx = pred_proba_gcn.argsort()[i][::-1][:k]\n",
    "        y_true_gcn = y_test_gcn.values[i,pred_idx]\n",
    "        y_pred_gcn = np.where(pred_proba_gcn>=0.5,1,0)[i,pred_idx]\n",
    "        y_proba_gcn = pred_proba_gcn[i,pred_idx][:k]\n",
    "        \n",
    "        acc3.append(accuracy_score(y_true_gcn,y_pred_gcn))\n",
    "        jaccard3.append(jaccard_score(y_true_gcn,y_pred_gcn))\n",
    "        hamming3.append(hamming_loss(y_true_gcn,y_pred_gcn))\n",
    "        f_score3.append(f1_score(y_true_gcn,y_pred_gcn))\n",
    "    \n",
    "    f_score3_mean.append(np.round(np.mean(f_score3),4))\n",
    "    acc3_mean.append(np.round(np.mean(acc3),4))\n",
    "    jaccard3_mean.append(np.round(np.mean(jaccard3),4))\n",
    "    hamming3_mean.append(np.round(np.mean(hamming3),4))"
   ]
  },
  {
   "cell_type": "code",
   "execution_count": 71,
   "metadata": {},
   "outputs": [
    {
     "data": {
      "application/vnd.jupyter.widget-view+json": {
       "model_id": "a860e7ba04ca41acae8e1d1524ec4f4e",
       "version_major": 2,
       "version_minor": 0
      },
      "text/plain": [
       "HBox(children=(HTML(value='k-fold'), FloatProgress(value=0.0, max=5.0), HTML(value='')))"
      ]
     },
     "metadata": {},
     "output_type": "display_data"
    },
    {
     "name": "stdout",
     "output_type": "stream",
     "text": [
      "826\n",
      "826\n",
      "826\n",
      "826\n",
      "827\n",
      "\n"
     ]
    }
   ],
   "source": [
    "k=381\n",
    "Aug=True\n",
    "SYM_NORM=False\n",
    "acc4 = []\n",
    "jaccard4 = []\n",
    "hamming4 = []\n",
    "acc4_mean = []\n",
    "jaccard4_mean = []\n",
    "hamming4_mean = []\n",
    "f_score4 = []\n",
    "f_score4_mean = []\n",
    "\n",
    "for train_idx,test_idx in tqdm_notebook(split.split(list_feature),total=split.get_n_splits(),desc=\"k-fold\"):\n",
    "    feature_train = list_feature[train_idx]\n",
    "    feature_test = list_feature[test_idx]\n",
    "    adj_train = np.array(list_adj)[train_idx]\n",
    "    adj_test = np.array(list_adj)[test_idx]\n",
    "    y_train_gcn = processing_matrix.iloc[train_idx,:381]\n",
    "    y_test_gcn = processing_matrix.iloc[test_idx,:381]\n",
    "    \n",
    "    \n",
    "    if Aug==True:\n",
    "        adj_train = np.concatenate([adj_train,np.array(aug_list_adj)])\n",
    "        feature_train = np.concatenate([feature_train,aug_list_feature])\n",
    "        y_train_gcn = np.concatenate([y_train_gcn,processing_matrix.iloc[:,:381]])\n",
    "    \n",
    "    graph_conv_filters = preprocess_adj_tensor_with_identity_for_paper(adj_train, SYM_NORM)\n",
    "    adj_test = preprocess_adj_tensor_with_identity_for_paper(adj_test, SYM_NORM)\n",
    "    \n",
    "    \n",
    "    nb_epochs = 300\n",
    "    batch_size = int(feature_train.shape[0]*0.8)\n",
    "    print(batch_size)\n",
    "    Adam = optimizers.Adam(lr = 0.009)\n",
    "    num_filters=2\n",
    "    X_input = Input(shape=(feature_train.shape[1], feature_train.shape[2]))\n",
    "    graph_conv_filters_input = Input(shape=(graph_conv_filters.shape[1], graph_conv_filters.shape[2]))\n",
    "        \n",
    "    output = MultiGraphCNN(80, num_filters, activation='relu',use_bias=False)([X_input, graph_conv_filters_input])\n",
    "    output = Dropout(0.25)(output)\n",
    "    output = MultiGraphCNN(80, num_filters, activation='relu',use_bias=False)([output, graph_conv_filters_input])\n",
    "    output = Dropout(0.25)(output)\n",
    "    output = Lambda(lambda x: K.mean(x, axis=1))(output)  # adding a node invariant layer to make sure output does not depends upon the node order in a graph.\n",
    "    #output = Dense(200)(output)\n",
    "    output = Dense(y_train_gcn.shape[1])(output)\n",
    "    output = Activation('sigmoid')(output)\n",
    "    \n",
    "\n",
    "    model = Model(inputs=[X_input, graph_conv_filters_input], outputs=output)\n",
    "    model.compile(loss='binary_crossentropy', optimizer=Adam, metrics=['accuracy'])\n",
    "    model.fit([feature_train, graph_conv_filters], y_train_gcn, batch_size=batch_size, validation_split=0.2, epochs=nb_epochs, verbose=0)\n",
    "    \n",
    "    \n",
    "    pred_proba_gcn = model.predict([feature_test,adj_test],steps=1)\n",
    "    \n",
    "    for i in range(y_test_gcn.shape[0]):\n",
    "        pred_idx = pred_proba_gcn.argsort()[i][::-1][:k]\n",
    "        y_true_gcn = y_test_gcn.values[i,pred_idx]\n",
    "        y_pred_gcn = np.where(pred_proba_gcn>=0.5,1,0)[i,pred_idx]\n",
    "        y_proba_gcn = pred_proba_gcn[i,pred_idx][:k]\n",
    "        \n",
    "        acc4.append(accuracy_score(y_true_gcn,y_pred_gcn))\n",
    "        jaccard4.append(jaccard_score(y_true_gcn,y_pred_gcn))\n",
    "        hamming4.append(hamming_loss(y_true_gcn,y_pred_gcn))\n",
    "        f_score4.append(f1_score(y_true_gcn,y_pred_gcn))\n",
    "    \n",
    "    f_score4_mean.append(np.round(np.mean(f_score4),4))\n",
    "    acc4_mean.append(np.round(np.mean(acc4),4))\n",
    "    jaccard4_mean.append(np.round(np.mean(jaccard4),4))\n",
    "    hamming4_mean.append(np.round(np.mean(hamming4),4))"
   ]
  },
  {
   "cell_type": "code",
   "execution_count": 80,
   "metadata": {},
   "outputs": [],
   "source": [
    "#des_result_df = pd.DataFrame(columns = ['jaccarduracy','F_score','AUC','AUPRC','Balanced jaccarduracy',\n",
    "#                       'TPR','TNR','MCC','G_MEAN','KAPPA'])\n",
    "\n",
    "result_df = {'jaccard_des':np.round(jaccard_mean,4),\n",
    "             'HAMMING_des':np.round(hamming_mean,4),\n",
    "             'f_score_des':np.round(f_score_mean,4),\n",
    "             'jaccard_finger':np.round(jaccard2_mean,4),\n",
    "             'HAMMING_finger':np.round(hamming2_mean,4),\n",
    "             'f_score_finger':np.round(f_score2_mean,4),\n",
    "              'jaccard_gcn':np.round(jaccard3_mean,4),                \n",
    "              'HAMMING_gcn':np.round(hamming3_mean,4),\n",
    "            'f_score_gcn':np.round(f_score3_mean,4),\n",
    "            'jaccard_aug_gcn':np.round(jaccard4_mean,4),                \n",
    "              'HAMMING_aug_gcn':np.round(hamming4_mean,4),\n",
    "            'f_score_aug_gcn':np.round(f_score4_mean,4)}\n",
    "result_df = pd.DataFrame(result_df)\n",
    "#result_df.index =  y_test_gcn.index.to_list()"
   ]
  },
  {
   "cell_type": "code",
   "execution_count": 81,
   "metadata": {},
   "outputs": [
    {
     "name": "stdout",
     "output_type": "stream",
     "text": [
      "jaccard_des        0.35606\n",
      "HAMMING_des        0.22344\n",
      "f_score_des        0.51342\n",
      "jaccard_finger     0.33336\n",
      "HAMMING_finger     0.22520\n",
      "f_score_finger     0.48808\n",
      "jaccard_gcn        0.32130\n",
      "HAMMING_gcn        0.25208\n",
      "f_score_gcn        0.47574\n",
      "jaccard_aug_gcn    0.36316\n",
      "HAMMING_aug_gcn    0.21982\n",
      "f_score_aug_gcn    0.52258\n",
      "dtype: float64\n",
      "jaccard_des        0.000852\n",
      "HAMMING_des        0.003576\n",
      "f_score_des        0.001451\n",
      "jaccard_finger     0.002510\n",
      "HAMMING_finger     0.003123\n",
      "f_score_finger     0.002376\n",
      "jaccard_gcn        0.009547\n",
      "HAMMING_gcn        0.002695\n",
      "f_score_gcn        0.011253\n",
      "jaccard_aug_gcn    0.002670\n",
      "HAMMING_aug_gcn    0.002927\n",
      "f_score_aug_gcn    0.002616\n",
      "dtype: float64\n"
     ]
    }
   ],
   "source": [
    "print(np.mean(result_df,axis=0))\n",
    "print(np.std(result_df,axis=0))"
   ]
  },
  {
   "cell_type": "code",
   "execution_count": null,
   "metadata": {},
   "outputs": [],
   "source": [
    "result_df.to_csv(\"result.csv\")"
   ]
  }
 ],
 "metadata": {
  "kernelspec": {
   "display_name": "Python 3",
   "language": "python",
   "name": "python3"
  },
  "language_info": {
   "codemirror_mode": {
    "name": "ipython",
    "version": 3
   },
   "file_extension": ".py",
   "mimetype": "text/x-python",
   "name": "python",
   "nbconvert_exporter": "python",
   "pygments_lexer": "ipython3",
   "version": "3.7.3"
  }
 },
 "nbformat": 4,
 "nbformat_minor": 2
}
